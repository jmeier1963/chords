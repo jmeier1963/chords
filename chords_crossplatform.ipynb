{
 "cells": [
  {
   "cell_type": "markdown",
   "id": "061dcc79",
   "metadata": {},
   "source": [
    "# 🌍 Cross-Platform Chords Notebook\n",
    "\n",
    "This notebook works on Windows, macOS, Linux, and WSL2!"
   ]
  },
  {
   "cell_type": "code",
   "execution_count": 1,
   "id": "1d6878a9",
   "metadata": {},
   "outputs": [
    {
     "name": "stdout",
     "output_type": "stream",
     "text": [
      "🌍 Platform Detection:\n",
      "==============================\n",
      "OS: Darwin\n",
      "✅ macOS - will use CoreAudio\n"
     ]
    }
   ],
   "source": [
    "import platform\n",
    "import os\n",
    "\n",
    "print(\"🌍 Platform Detection:\")\n",
    "print(\"=\" * 30)\n",
    "\n",
    "system = platform.system().lower()\n",
    "print(f\"OS: {platform.system()}\")\n",
    "\n",
    "if system == \"darwin\":\n",
    "    print(\"✅ macOS - will use CoreAudio\")\n",
    "elif system == \"linux\":\n",
    "    if os.path.exists(\"/dev/snd\"):\n",
    "        print(\"✅ Linux - will use ALSA\")\n",
    "    else:\n",
    "        print(\"⚠️ WSL2 - will use PulseAudio\")\n",
    "elif system == \"windows\":\n",
    "    print(\"✅ Windows - will use DirectSound\")\n",
    "else:\n",
    "    print(\"⚠️ Unknown OS - will try PulseAudio\")"
   ]
  },
  {
   "cell_type": "code",
   "execution_count": 4,
   "id": "1fe00604",
   "metadata": {},
   "outputs": [
    {
     "name": "stdout",
     "output_type": "stream",
     "text": [
      "🎯 Using coreaudio driver\n",
      "✅ Started with coreaudio\n",
      "🎵 Playing chord...\n",
      "✅ Success!\n"
     ]
    }
   ],
   "source": [
    "import fluidsynth\n",
    "import time\n",
    "import platform\n",
    "import os\n",
    "\n",
    "# Smart driver selection\n",
    "def get_driver():\n",
    "    system = platform.system().lower()\n",
    "    if system == \"darwin\": return \"coreaudio\"\n",
    "    elif system == \"linux\":\n",
    "        return \"alsa\" if os.path.exists(\"/dev/snd\") else \"pulseaudio\"\n",
    "    elif system == \"windows\": return \"dsound\"\n",
    "    else: return \"pulseaudio\"\n",
    "\n",
    "# Get best driver\n",
    "driver = get_driver()\n",
    "print(f\"🎯 Using {driver} driver\")\n",
    "\n",
    "# Try to play audio\n",
    "try:\n",
    "    sf2 = \"./piano.sf2\"\n",
    "    fs = fluidsynth.Synth()\n",
    "    fs.start(driver=driver)\n",
    "    print(f\"✅ Started with {driver}\")\n",
    "    \n",
    "    # Load and play\n",
    "    sfid = fs.sfload(sf2)\n",
    "    fs.program_select(0, sfid, 0, 0)\n",
    "    \n",
    "    notes = [69, 73, 76]  # A major triad\n",
    "    vel = 96\n",
    "    \n",
    "    print(\"🎵 Playing chord...\")\n",
    "    for n in notes:\n",
    "        fs.noteon(0, n, vel)\n",
    "    \n",
    "    time.sleep(2.5)\n",
    "    \n",
    "    for n in notes:\n",
    "        fs.noteoff(0, n)\n",
    "    \n",
    "    fs.delete()\n",
    "    print(\"✅ Success!\")\n",
    "    \n",
    "except Exception as e:\n",
    "    print(f\"⚠️ Audio failed: {e}\")\n",
    "    print(\"🔄 Creating MIDI file instead...\")\n",
    "    \n",
    "    try:\n",
    "        import mido\n",
    "        mid = mido.MidiFile()\n",
    "        track = mido.MidiTrack()\n",
    "        mid.tracks.append(track)\n",
    "        \n",
    "        track.append(mido.MetaMessage(\"set_tempo\", tempo=mido.bpm2tempo(120)))\n",
    "        \n",
    "        for note in notes:\n",
    "            track.append(mido.Message(\"note_on\", note=note, velocity=vel, time=0))\n",
    "        \n",
    "        track.append(mido.Message(\"note_off\", note=notes[0], velocity=0, time=4800))\n",
    "        track.append(mido.Message(\"note_off\", note=notes[1], velocity=0, time=0))\n",
    "        track.append(mido.Message(\"note_off\", note=notes[2], velocity=0, time=0))\n",
    "        \n",
    "        mid.save(\"chord_output.mid\")\n",
    "        print(\"✅ MIDI file created - works everywhere!\")\n",
    "        \n",
    "    except Exception as midi_error:\n",
    "        print(f\"❌ MIDI failed: {midi_error}\")"
   ]
  },
  {
   "cell_type": "code",
   "execution_count": null,
   "id": "f1cfa684",
   "metadata": {},
   "outputs": [],
   "source": []
  },
  {
   "cell_type": "code",
   "execution_count": null,
   "id": "b7037bf3",
   "metadata": {},
   "outputs": [],
   "source": []
  }
 ],
 "metadata": {
  "kernelspec": {
   "display_name": "hhl",
   "language": "python",
   "name": "python3"
  },
  "language_info": {
   "codemirror_mode": {
    "name": "ipython",
    "version": 3
   },
   "file_extension": ".py",
   "mimetype": "text/x-python",
   "name": "python",
   "nbconvert_exporter": "python",
   "pygments_lexer": "ipython3",
   "version": "3.12.2"
  }
 },
 "nbformat": 4,
 "nbformat_minor": 5
}

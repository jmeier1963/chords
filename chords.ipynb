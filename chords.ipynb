{
 "cells": [
  {
   "cell_type": "markdown",
   "id": "61a6a786",
   "metadata": {},
   "source": [
    "# Chords"
   ]
  },
  {
   "cell_type": "code",
   "execution_count": 1,
   "id": "52cd1b3d",
   "metadata": {
    "execution": {
     "iopub.execute_input": "2025-08-27T09:51:27.290840Z",
     "iopub.status.busy": "2025-08-27T09:51:27.290405Z",
     "iopub.status.idle": "2025-08-27T09:51:27.709049Z",
     "shell.execute_reply": "2025-08-27T09:51:27.708152Z"
    }
   },
   "outputs": [
    {
     "name": "stdout",
     "output_type": "stream",
     "text": [
      "README.md\t\t\t   chords.ipynb  requirements.txt\n",
      "UprightPianoKW-small-SF2-20190703  piano.sf2\n"
     ]
    }
   ],
   "source": [
    "!ls"
   ]
  },
  {
   "cell_type": "code",
   "execution_count": 1,
   "id": "c71813ec",
   "metadata": {
    "execution": {
     "iopub.execute_input": "2025-08-27T09:51:27.712067Z",
     "iopub.status.busy": "2025-08-27T09:51:27.711794Z",
     "iopub.status.idle": "2025-08-27T09:51:28.135714Z",
     "shell.execute_reply": "2025-08-27T09:51:28.135158Z"
    }
   },
   "outputs": [
    {
     "name": "stderr",
     "output_type": "stream",
     "text": [
      "fluidsynth: error: Couldn't find the requested audio driver 'coreaudio'.\n",
      "fluidsynth: This build of fluidsynth supports the following audio drivers: alsa, file, jack, oss, pipewire, pulseaudio, sdl2\n",
      "ALSA lib seq_hw.c:528:(snd_seq_hw_open) open /dev/snd/seq failed: No such file or directory\n",
      "fluidsynth: error: Error opening ALSA sequencer\n"
     ]
    }
   ],
   "source": [
    "import mido, time, fluidsynth\n",
    "\n",
    "sf2 = \"./piano.sf2\"        # e.g., “SalamanderGrandPiano.sf2”\n",
    "fs = fluidsynth.Synth()\n",
    "fs.start(driver=\"coreaudio\")            # \"alsa\" on Linux, \"dsound\" on Windows\n",
    "sfid = fs.sfload(sf2)\n",
    "fs.program_select(0, sfid, 0, 0)        # channel 0, bank 0, program 0\n",
    "\n",
    "# A major triad around A4\n",
    "notes = [69, 73, 76]                    # MIDI: A4, C#5, E5\n",
    "vel = 96\n",
    "\n",
    "for n in notes:\n",
    "    fs.noteon(0, n, vel)\n",
    "\n",
    "time.sleep(2.5)                         # ring time\n",
    "\n",
    "for n in notes:\n",
    "    fs.noteoff(0, n)\n",
    "\n",
    "fs.delete()\n"
   ]
  },
  {
   "cell_type": "code",
   "execution_count": null,
   "id": "5f312fa7",
   "metadata": {},
   "outputs": [],
   "source": []
  },
  {
   "cell_type": "code",
   "execution_count": null,
   "id": "44c3fbcd",
   "metadata": {},
   "outputs": [],
   "source": []
  },
  {
   "cell_type": "code",
   "execution_count": null,
   "id": "be3bc8fa",
   "metadata": {},
   "outputs": [],
   "source": []
  }
 ],
 "metadata": {
  "kernelspec": {
   "display_name": "ai",
   "language": "python",
   "name": "python3"
  },
  "language_info": {
   "codemirror_mode": {
    "name": "ipython",
    "version": 3
   },
   "file_extension": ".py",
   "mimetype": "text/x-python",
   "name": "python",
   "nbconvert_exporter": "python",
   "pygments_lexer": "ipython3",
   "version": "3.12.11"
  }
 },
 "nbformat": 4,
 "nbformat_minor": 5
}

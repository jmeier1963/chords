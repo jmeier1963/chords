{
 "cells": [
  {
   "cell_type": "markdown",
   "id": "a8c30400",
   "metadata": {},
   "source": [
    "# Working Chords Notebook with PulseAudio\n",
    "\n",
    "This notebook works with your WSL2 PulseAudio setup."
   ]
  },
  {
   "cell_type": "code",
   "execution_count": null,
   "id": "a882aa73",
   "metadata": {},
   "outputs": [],
   "source": [
    "!ls"
   ]
  },
  {
   "cell_type": "code",
   "execution_count": 19,
   "id": "de54d844",
   "metadata": {},
   "outputs": [
    {
     "name": "stderr",
     "output_type": "stream",
     "text": [
      "fluidsynth: Using PulseAudio driver\n",
      "fluidsynth: warning: Failed to set thread to high priority\n",
      "ALSA lib seq_hw.c:528:(snd_seq_hw_open) open /dev/snd/seq failed: No such file or directory\n",
      "fluidsynth: error: Error opening ALSA sequencer\n"
     ]
    },
    {
     "name": "stdout",
     "output_type": "stream",
     "text": [
      "✓ FluidSynth started with PulseAudio\n",
      "Playing A major triad...\n",
      "✓ Chord played successfully!\n"
     ]
    }
   ],
   "source": [
    "import fluidsynth\n",
    "import time\n",
    "\n",
    "# Test audio playback\n",
    "try:\n",
    "    sf2 = \"./piano.sf2\"\n",
    "    fs = fluidsynth.Synth()\n",
    "    fs.start(driver=\"pulseaudio\")\n",
    "    print(\"✓ FluidSynth started with PulseAudio\")\n",
    "    \n",
    "    # Load soundfont and play chord\n",
    "    sfid = fs.sfload(sf2)\n",
    "    fs.program_select(0, sfid, 0, 0)\n",
    "    \n",
    "    # A major triad around A4\n",
    "    notes = [69, 73, 76]  # MIDI: A4, C#5, E5\n",
    "    vel = 96\n",
    "    \n",
    "    print(\"Playing A major triad...\")\n",
    "    for n in notes:\n",
    "        fs.noteon(0, n, vel)\n",
    "    \n",
    "    time.sleep(2.5)  # ring time\n",
    "    \n",
    "    for n in notes:\n",
    "        fs.noteoff(0, n)\n",
    "    \n",
    "    fs.delete()\n",
    "    print(\"✓ Chord played successfully!\")\n",
    "    \n",
    "except Exception as e:\n",
    "    print(f\"Error: {e}\")"
   ]
  },
  {
   "cell_type": "code",
   "execution_count": null,
   "id": "70ccca6a",
   "metadata": {},
   "outputs": [],
   "source": []
  },
  {
   "cell_type": "code",
   "execution_count": null,
   "id": "15577cbb",
   "metadata": {},
   "outputs": [],
   "source": []
  }
 ],
 "metadata": {
  "kernelspec": {
   "display_name": "Python 3",
   "language": "python",
   "name": "python3"
  },
  "language_info": {
   "codemirror_mode": {
    "name": "ipython",
    "version": 3
   },
   "file_extension": ".py",
   "mimetype": "text/x-python",
   "name": "python",
   "nbconvert_exporter": "python",
   "pygments_lexer": "ipython3",
   "version": "3.12.0"
  }
 },
 "nbformat": 4,
 "nbformat_minor": 5
}
